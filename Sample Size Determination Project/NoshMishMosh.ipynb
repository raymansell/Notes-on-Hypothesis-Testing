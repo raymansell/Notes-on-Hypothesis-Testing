{
 "cells": [
  {
   "cell_type": "markdown",
   "metadata": {},
   "source": [
    "<center><h1>A/B Testing at Nosh Mish Mosh</h1></center>"
   ]
  },
  {
   "cell_type": "markdown",
   "metadata": {},
   "source": [
    "The Nosh Mish Mosh is a recipe and ingredient meal delivery service. We ship the raw materials and you get to cook it at your home! \n",
    "\n",
    "Nosh Mish Mosh wants to run an experiment to see if we can convince more people to purchase meal plans if we use a more artisanal-looking vegetable selection. We’ve photographed these modern meals with blush tomatoes and graffiti eggplants, but aren’t sure if this strategy will sell enough units to benefit from establishing a business relationship with a new provider.\n",
    "\n",
    "Before running this experiment, of course, we need to know how many people have to see the new assets. We don’t want customers seeing food that we won’t end up offering. Of course, there are three things we need to know before we determine that number.\n",
    "\n",
    "* the **Baseline**\n",
    "* the **Minimum Detectable Effect**\n",
    "* and the **Statistical Significance**\n",
    "\n",
    "\n",
    "Let’s get the ball rolling on finding those numbers! In order to get our baseline, we need to first know how many users visited the site.\n",
    "\n",
    "Next we need to know how many visitors to the site ultimately end up buying a meal or set of meals from Nosh Mish Mosh. "
   ]
  },
  {
   "cell_type": "code",
   "execution_count": 1,
   "metadata": {},
   "outputs": [],
   "source": [
    "import noshmishmosh\n",
    "import numpy as np"
   ]
  },
  {
   "cell_type": "code",
   "execution_count": 2,
   "metadata": {},
   "outputs": [],
   "source": [
    "all_visitors = noshmishmosh.customer_visits\n",
    "paying_visitors = noshmishmosh.purchasing_customers\n",
    "\n",
    "total_visitor_count = len(all_visitors)\n",
    "paying_visitor_count = len(paying_visitors)"
   ]
  },
  {
   "cell_type": "markdown",
   "metadata": {},
   "source": [
    "Now to get the baseline: since we want a percentage as our answer, multiply the number of purchasing visitors by 100.0. Then divide that by the number of total visitors. "
   ]
  },
  {
   "cell_type": "code",
   "execution_count": 3,
   "metadata": {},
   "outputs": [
    {
     "name": "stdout",
     "output_type": "stream",
     "text": [
      "Current percentage of users that buy a meal: 18.6%\n"
     ]
    }
   ],
   "source": [
    "baseline_percent = (100* paying_visitor_count)/total_visitor_count\n",
    "print(\"Current percentage of users that buy a meal: \" + str(baseline_percent)+\"%\")"
   ]
  },
  {
   "cell_type": "markdown",
   "metadata": {},
   "source": [
    "These rainbow fingerling potatoes don’t come cheap. We’d like to know for sure that we’ll be pulling in at least $1240 more every week. In order to figure out how many more customers we need we’ll have to investigate the average revenue generated from a given sale.\n",
    "\n",
    "We need to find how many typical purchases it would take to reach $1240 in additional revenue using our historical data."
   ]
  },
  {
   "cell_type": "code",
   "execution_count": 4,
   "metadata": {},
   "outputs": [],
   "source": [
    "payment_history = noshmishmosh.money_spent\n",
    "average_payment = np.mean(payment_history)"
   ]
  },
  {
   "cell_type": "markdown",
   "metadata": {},
   "source": [
    "We want to know how many of these “usual” payments it would take to clear our $1240 mark. "
   ]
  },
  {
   "cell_type": "code",
   "execution_count": 5,
   "metadata": {},
   "outputs": [],
   "source": [
    "new_customers_needed = np.ceil(1240/average_payment) #lift"
   ]
  },
  {
   "cell_type": "markdown",
   "metadata": {},
   "source": [
    "The minimum detectable effect is the lift as a proportion of the baseline. Before we calculate that though, we should format the lift as a percentage because that's how we're measuring the metric for this A/B test."
   ]
  },
  {
   "cell_type": "code",
   "execution_count": 6,
   "metadata": {},
   "outputs": [
    {
     "name": "stdout",
     "output_type": "stream",
     "text": [
      "In order to make an additional $1240 more every week, NoshMishMosh must increase its percentage of paying users by 9.4%\n"
     ]
    }
   ],
   "source": [
    "percentage_point_increase = (100 * new_customers_needed) / total_visitor_count\n",
    "print(\"In order to make an additional $1240 more every week,\\\n",
    " NoshMishMosh must increase its percentage of paying users by \"\\\n",
    " +str(percentage_point_increase)+\"%\")"
   ]
  },
  {
   "cell_type": "markdown",
   "metadata": {},
   "source": [
    "In order to find our minimum detectable effect, we need to express <code>percentage_point_increase</code> as a percent of <code>baseline_percent</code>. You can do this by dividing <code>percentage_point_increase</code> by <code>baseline_percent</code> and multiplying by 100."
   ]
  },
  {
   "cell_type": "code",
   "execution_count": 7,
   "metadata": {},
   "outputs": [
    {
     "name": "stdout",
     "output_type": "stream",
     "text": [
      "We want a minimum detectable efect of 50.537634408602145% \n",
      "(i.e we want 50.537634408602145% more paying users than the baseline)\n"
     ]
    }
   ],
   "source": [
    "minimum_detectable_effect = 100 * percentage_point_increase / baseline_percent \n",
    "\n",
    "print(\"We want a minimum detectable efect of \" + str(minimum_detectable_effect)\\\n",
    "      + \"% \\n(i.e we want \" + str(minimum_detectable_effect)\\\n",
    "      + \"% more paying users than the baseline)\") "
   ]
  },
  {
   "cell_type": "markdown",
   "metadata": {},
   "source": [
    "The last thing we need to calculate the sample size for Nosh Mish Mosh’s artisanal rebranding is our statistical significance. We’d like to be fairly certain, but this isn’t going to be a million dollar decision, so let’s go with 90%.\n",
    "\n",
    "After plugging these numbers into the calculator, we get a sample size of 290"
   ]
  },
  {
   "cell_type": "code",
   "execution_count": null,
   "metadata": {},
   "outputs": [],
   "source": []
  }
 ],
 "metadata": {
  "kernelspec": {
   "display_name": "Python 3",
   "language": "python",
   "name": "python3"
  },
  "language_info": {
   "codemirror_mode": {
    "name": "ipython",
    "version": 3
   },
   "file_extension": ".py",
   "mimetype": "text/x-python",
   "name": "python",
   "nbconvert_exporter": "python",
   "pygments_lexer": "ipython3",
   "version": "3.7.6"
  }
 },
 "nbformat": 4,
 "nbformat_minor": 4
}
