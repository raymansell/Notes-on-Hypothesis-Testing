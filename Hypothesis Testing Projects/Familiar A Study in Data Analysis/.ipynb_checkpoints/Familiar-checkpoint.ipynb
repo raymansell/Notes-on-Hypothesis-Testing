{
 "cells": [
  {
   "cell_type": "markdown",
   "metadata": {},
   "source": [
    "<center><h4>Welcome to <i>Familiar</i>, a startup in the new market of blood transfusion!</h4></center> "
   ]
  },
  {
   "cell_type": "markdown",
   "metadata": {},
   "source": [
    "Perfect, now the first thing we want to show is that our most basic package, the Vein Pack, actually has a significant impact on the subscribers. It would be a marketing goldmine if we can show that subscribers to the Vein Pack live longer than other people."
   ]
  },
  {
   "cell_type": "code",
   "execution_count": 16,
   "metadata": {},
   "outputs": [
    {
     "data": {
      "text/plain": [
       "[76.93767431371617,\n",
       " 75.99335913014681,\n",
       " 74.79815012354048,\n",
       " 74.50202147158551,\n",
       " 77.48888897587436,\n",
       " 72.14256573154043,\n",
       " 75.99303167191182,\n",
       " 76.34155048095228,\n",
       " 77.48475562999882,\n",
       " 76.5321014800867,\n",
       " 76.25508955276418,\n",
       " 77.58398316566651,\n",
       " 77.04737034962294,\n",
       " 72.87475174594711,\n",
       " 77.43504547002844,\n",
       " 77.4923414107892,\n",
       " 78.32672046879952,\n",
       " 73.34370246887067,\n",
       " 79.96915765236346,\n",
       " 74.83800583300325]"
      ]
     },
     "metadata": {},
     "output_type": "display_data"
    },
    {
     "name": "stdout",
     "output_type": "stream",
     "text": [
      "The average lifespan for vein pack users is: 76.16901335636044\n"
     ]
    }
   ],
   "source": [
    "import familiar\n",
    "import numpy as np\n",
    "from scipy.stats import ttest_1samp\n",
    "from scipy.stats import ttest_ind\n",
    "from scipy.stats import chi2_contingency \n",
    "\n",
    "vein_pack_lifespans = familiar.lifespans(package='vein')\n",
    "display(vein_pack_lifespans)\n",
    "print(\"The average lifespan for vein pack users is: \" + str(np.mean(vein_pack_lifespans)))"
   ]
  },
  {
   "cell_type": "markdown",
   "metadata": {},
   "source": [
    "We’d like to find out if the average lifespan of a Vein Pack subscriber is ***significantly different*** from the average life expectancy of <code>71</code> years."
   ]
  },
  {
   "cell_type": "code",
   "execution_count": 12,
   "metadata": {},
   "outputs": [
    {
     "name": "stdout",
     "output_type": "stream",
     "text": [
      "The Vein Pack Is Proven To Make You Live Longer!\n"
     ]
    }
   ],
   "source": [
    "vein_pack_test = ttest_1samp(vein_pack_lifespans, 71)\n",
    "\n",
    "if vein_pack_test.pvalue < 0.05:\n",
    "    print(\"The Vein Pack Is Proven To Make You Live Longer!\")\n",
    "else:\n",
    "    print(\"The Vein Pack Is Probably Good For You Somehow!\")"
   ]
  },
  {
   "cell_type": "markdown",
   "metadata": {},
   "source": [
    "In order to differentiate Familiar’s different product lines, we’d like to compare this lifespan data between our different packages. Our next step up from the Vein Pack is the Artery Pack. "
   ]
  },
  {
   "cell_type": "code",
   "execution_count": 13,
   "metadata": {},
   "outputs": [],
   "source": [
    "artery_pack_lifespans = familiar.lifespans(package='artery')"
   ]
  },
  {
   "cell_type": "code",
   "execution_count": 18,
   "metadata": {},
   "outputs": [
    {
     "name": "stdout",
     "output_type": "stream",
     "text": [
      "The average lifespan for vein pack users is: 76.16901335636044\n",
      "The average lifespan for artery pack users is: 74.8736622351704\n"
     ]
    }
   ],
   "source": [
    "print(\"The average lifespan for vein pack users is: \" + str(np.mean(vein_pack_lifespans)))\n",
    "print(\"The average lifespan for artery pack users is: \" + str(np.mean(artery_pack_lifespans)))"
   ]
  },
  {
   "cell_type": "markdown",
   "metadata": {},
   "source": [
    "Now we want to show whether the subscribers to the Artery Pack experience a significant improvement even beyond what a Vein Pack subscriber’s benefits."
   ]
  },
  {
   "cell_type": "code",
   "execution_count": 19,
   "metadata": {},
   "outputs": [
    {
     "name": "stdout",
     "output_type": "stream",
     "text": [
      "The Artery Package is also a great product!\n"
     ]
    }
   ],
   "source": [
    "package_comparison_results = ttest_ind(vein_pack_lifespans, artery_pack_lifespans)\n",
    "\n",
    "if package_comparison_results.pvalue < 0.05:\n",
    "    print(\"The Artery Package guarantees even stronger results!\")\n",
    "else:\n",
    "    print(\"The Artery Package is also a great product!\")"
   ]
  },
  {
   "cell_type": "markdown",
   "metadata": {},
   "source": [
    "Well, shame that it’s not significantly better, but maybe there’s a way to demonstrate the benefits of the Artery Package yet.\n",
    "\n",
    "If your lifespan isn’t significantly increased by signing up for the Artery Package, maybe we can make some other claim about the benefits of the package. To that end, we’ve sent out a survey collecting the iron counts for our subscribers, and filtered that data into “low”, “normal”, and “high”.\n",
    "\n",
    "We received 200 responses from our Vein Package subscribers. 70% of them had low iron counts, 20% had normal, and 10% of them have high iron counts.\n",
    "\n",
    "We were only able to get 145 responses from our Artery Package subscribers, but only 20% of them had low iron counts. 60% had normal, and 20% have high iron counts.\n",
    "\n",
    "\n",
    "              vein     |  artery\n",
    "    ------+------------+----------\n",
    "     low  | 200 * 0.7  | 145 * 0.2\n",
    "    normal| 200 * 0.2  | 145 * 0.2\n",
    "    high  | 200 * 0.1  | 145 * 0.6\n"
   ]
  },
  {
   "cell_type": "code",
   "execution_count": 23,
   "metadata": {},
   "outputs": [
    {
     "name": "stdout",
     "output_type": "stream",
     "text": [
      "[140, 29]\n",
      "[40, 87]\n",
      "[20, 29]\n"
     ]
    }
   ],
   "source": [
    "iron_contingency_table = familiar.iron_counts_for_package()\n",
    "for row in iron_contingency_table:\n",
    "    print(row)"
   ]
  },
  {
   "cell_type": "markdown",
   "metadata": {},
   "source": [
    "We want to be able to tell if what seems like a higher number (% of iron) of our Artery Package subscribers is a ***significant difference*** from what was reported by Vein Package subscribers."
   ]
  },
  {
   "cell_type": "code",
   "execution_count": 24,
   "metadata": {},
   "outputs": [
    {
     "name": "stdout",
     "output_type": "stream",
     "text": [
      "The Artery Package is Proven to Make You Healthier!\n"
     ]
    }
   ],
   "source": [
    "_, iron_pvalue, _, _ = chi2_contingency(iron_contingency_table)\n",
    "\n",
    "if iron_pvalue < 0.05:\n",
    "    print(\"The Artery Package is Proven to Make You Healthier!\")\n",
    "else:\n",
    "    print(\"While We Cant Say The Artery Package Will Help You, I Bet Its Nice!\")"
   ]
  },
  {
   "cell_type": "markdown",
   "metadata": {},
   "source": [
    "Fantastic! With proven benefits to both of our product lines, we can definitely ramp up our marketing and sales."
   ]
  },
  {
   "cell_type": "code",
   "execution_count": null,
   "metadata": {},
   "outputs": [],
   "source": []
  }
 ],
 "metadata": {
  "kernelspec": {
   "display_name": "Python 3",
   "language": "python",
   "name": "python3"
  },
  "language_info": {
   "codemirror_mode": {
    "name": "ipython",
    "version": 3
   },
   "file_extension": ".py",
   "mimetype": "text/x-python",
   "name": "python",
   "nbconvert_exporter": "python",
   "pygments_lexer": "ipython3",
   "version": "3.7.6"
  }
 },
 "nbformat": 4,
 "nbformat_minor": 4
}
