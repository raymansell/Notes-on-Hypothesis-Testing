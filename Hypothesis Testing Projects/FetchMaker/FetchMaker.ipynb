{
 "cells": [
  {
   "cell_type": "markdown",
   "metadata": {},
   "source": [
    "<center><h4>FetchMaker</h4></center>"
   ]
  },
  {
   "cell_type": "markdown",
   "metadata": {},
   "source": [
    "Congratulations! You’ve just started working at the hottest new tech startup, FetchMaker. FetchMaker’s mission is to match up prospective dog owners with their perfect pet. Data on thousands of adoptable dogs are in FetchMaker’s system, and it’s your job to analyze some of that data."
   ]
  },
  {
   "cell_type": "code",
   "execution_count": 1,
   "metadata": {},
   "outputs": [],
   "source": [
    "import numpy as np\n",
    "import fetchmaker\n",
    "from scipy.stats import binom_test\n",
    "from scipy.stats import f_oneway\n",
    "from statsmodels.stats.multicomp import pairwise_tukeyhsd\n",
    "from scipy.stats import chi2_contingency "
   ]
  },
  {
   "cell_type": "markdown",
   "metadata": {},
   "source": [
    "The attributes that FetchMaker keeps track of are:\n",
    "* <code>weight</code>, an integer representing how heavy a dog is in pounds\n",
    "* <code>tail_lenght</code>, a float representing tail lenght in inches\n",
    "* <code>age</code>, in years\n",
    "* <code>color</code>, a string such as <code>\"brown\"</code> or <code>\"grey\"</code>\n",
    "* <code>is_rescue</code>, a boolean, <code>0</code>, or <code>1</code>\n",
    "\n",
    "The <code>fetchmaker</code> package lets you access this data for a specified breed of dog with the following format:\n",
    "\n",
    "    fetchmaker.get_weight(\"poodle\")\n",
    "    \n",
    "This returns a Pandas DataFrame of the weights of the poodles recorded in the system. The other methods are <code>get_tail_length</code>, <code>get_color</code>, <code>get_age</code>, and <code>get_is_rescue</code>, which all take a breed as an input."
   ]
  },
  {
   "cell_type": "markdown",
   "metadata": {},
   "source": [
    "\n",
    "Over the years, we have seen that we expect <code>8%</code> of dogs in the FetchMaker system to be rescues. We want to know if whippets are significantly more or less likely to be a rescue."
   ]
  },
  {
   "cell_type": "code",
   "execution_count": 2,
   "metadata": {},
   "outputs": [],
   "source": [
    "whippet_rescue = fetchmaker.get_is_rescue(\"whippet\")\n",
    "num_whippet_rescues = np.count_nonzero(whippet_rescue)\n",
    "num_whippets = np.size(whippet_rescue)"
   ]
  },
  {
   "cell_type": "code",
   "execution_count": 3,
   "metadata": {},
   "outputs": [
    {
     "name": "stdout",
     "output_type": "stream",
     "text": [
      "There's a 0.5811780106238098 probability that the whippets are indeed likely to be rescues according to expectations.\n"
     ]
    }
   ],
   "source": [
    "print(\"There's a {} probability that the whippets are indeed likely to be rescues according to expectations.\".\\\n",
    "       format(binom_test(num_whippet_rescues, n=num_whippets, p=0.08)))"
   ]
  },
  {
   "cell_type": "markdown",
   "metadata": {},
   "source": [
    "Three of our most popular mid-sized dog breeds are whippets, terriers, and pitbulls. Is there a significant difference in the average weights of these three dog breeds? Perform a comparative numerical test to determine if there is a significant difference."
   ]
  },
  {
   "cell_type": "code",
   "execution_count": 4,
   "metadata": {},
   "outputs": [
    {
     "name": "stdout",
     "output_type": "stream",
     "text": [
      "There's a 3.276415588274815e-17 probability that there's no significant difference      in the average weights of whippets, terriers and pitbulls\n"
     ]
    }
   ],
   "source": [
    "whippet_weight = fetchmaker.get_weight(\"whippet\")\n",
    "terrier_weight = fetchmaker.get_weight(\"terrier\")\n",
    "pitbull_weight = fetchmaker.get_weight(\"pitbull\")\n",
    "\n",
    "#We use ANOVA because we're analyzing a numerical variable (weight) and\n",
    "#a categorical variable with three categories(3 breeds). (more than 2:ANOVA, 2:t-test)\n",
    "print(\"There's a {} probability that there's no significant difference\\\n",
    "      in the average weights of whippets, terriers and pitbulls\".\\\n",
    "      format(f_oneway(whippet_weight,terrier_weight,pitbull_weight).pvalue)) "
   ]
  },
  {
   "cell_type": "markdown",
   "metadata": {},
   "source": [
    "Thus, we reject the null hypothesis. Now, let us perform another test to determine which of the pairs of these dog breeds differ from each other"
   ]
  },
  {
   "cell_type": "code",
   "execution_count": 5,
   "metadata": {},
   "outputs": [
    {
     "name": "stdout",
     "output_type": "stream",
     "text": [
      " Multiple Comparison of Means - Tukey HSD, FWER=0.05 \n",
      "=====================================================\n",
      " group1  group2 meandiff p-adj   lower  upper  reject\n",
      "-----------------------------------------------------\n",
      "pitbull terrier   -13.24  0.001 -16.728 -9.752   True\n",
      "pitbull whippet    -3.34 0.0639  -6.828  0.148  False\n",
      "terrier whippet      9.9  0.001   6.412 13.388   True\n",
      "-----------------------------------------------------\n"
     ]
    }
   ],
   "source": [
    "doggos_weight = np.concatenate([whippet_weight, terrier_weight, pitbull_weight])\n",
    "labels = ['whippet'] * len(whippet_weight) + ['terrier'] * len(terrier_weight) + ['pitbull'] * len(pitbull_weight)\n",
    "\n",
    "tukey_results = pairwise_tukeyhsd(doggos_weight, labels, 0.05)\n",
    "print(tukey_results)"
   ]
  },
  {
   "cell_type": "markdown",
   "metadata": {},
   "source": [
    "This table tells us that there's a significant statistical difference in the average weight of terriers."
   ]
  },
  {
   "cell_type": "markdown",
   "metadata": {},
   "source": [
    "\n",
    "We want to see if <code>\"poodle\"</code>s and <code>\"shihtzu\"</code>s have significantly different color breakdowns.\n",
    "You can get the number of occurrences of brown poodles by using <code>np.count_nonzero(poodle_colors == \"brown\")</code>"
   ]
  },
  {
   "cell_type": "code",
   "execution_count": 6,
   "metadata": {},
   "outputs": [
    {
     "name": "stdout",
     "output_type": "stream",
     "text": [
      "There's a 0.005302408293244593 probability that there's no relationship between doggo color and doggo breed\n"
     ]
    }
   ],
   "source": [
    "\"\"\"\n",
    "Using a Chi Squared test (analyzing two categorical variables: breed and color)\n",
    "\n",
    "contingency table: \n",
    "\n",
    "        poodle    shitzu\n",
    "black |   x    |     x\n",
    "brown |   x    |     x\n",
    "gold  |   x    |     x\n",
    "grey  |   x    |     x\n",
    "white |   x    |     x\n",
    "\"\"\"\n",
    "\n",
    "poodle_colors = fetchmaker.get_color(\"poodle\")\n",
    "shihtzu_colors = fetchmaker.get_color(\"shihtzu\")\n",
    "\n",
    "color_table = [\n",
    "  [\n",
    "    np.count_nonzero(poodle_colors == \"black\"), \n",
    "    np.count_nonzero(shihtzu_colors == \"black\")\n",
    "  ],\n",
    "  [\n",
    "    np.count_nonzero(poodle_colors == \"brown\"), \n",
    "    np.count_nonzero(shihtzu_colors == \"brown\")\n",
    "  ],\n",
    "  [\n",
    "    np.count_nonzero(poodle_colors == \"gold\"), \n",
    "    np.count_nonzero(shihtzu_colors == \"gold\")\n",
    "  ],\n",
    "  [\n",
    "    np.count_nonzero(poodle_colors == \"grey\"), \n",
    "    np.count_nonzero(shihtzu_colors == \"grey\")\n",
    "  ],\n",
    "  [\n",
    "    np.count_nonzero(poodle_colors == \"white\"), \n",
    "    np.count_nonzero(shihtzu_colors == \"white\")\n",
    "  ], \n",
    "]\n",
    "\n",
    "_, color_pval, _, _ = chi2_contingency(color_table)\n",
    "print(\"There's a {} probability that there's no relationship between doggo color and doggo breed\".format(color_pval))"
   ]
  },
  {
   "cell_type": "code",
   "execution_count": null,
   "metadata": {},
   "outputs": [],
   "source": []
  }
 ],
 "metadata": {
  "kernelspec": {
   "display_name": "Python 3",
   "language": "python",
   "name": "python3"
  },
  "language_info": {
   "codemirror_mode": {
    "name": "ipython",
    "version": 3
   },
   "file_extension": ".py",
   "mimetype": "text/x-python",
   "name": "python",
   "nbconvert_exporter": "python",
   "pygments_lexer": "ipython3",
   "version": "3.7.6"
  }
 },
 "nbformat": 4,
 "nbformat_minor": 4
}
